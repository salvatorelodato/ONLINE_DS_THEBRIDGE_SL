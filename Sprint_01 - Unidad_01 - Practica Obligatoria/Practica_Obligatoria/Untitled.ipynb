{
 "cells": [
  {
   "cell_type": "code",
   "execution_count": 3,
   "id": "2a0ebbf6-ad69-49f0-991e-d93c840ca39d",
   "metadata": {},
   "outputs": [
    {
     "name": "stdout",
     "output_type": "stream",
     "text": [
      "SALVA\n"
     ]
    }
   ],
   "source": [
    "nombre = \"Salva\"\n",
    "nombre = nombre.upper()\n",
    "print(nombre)"
   ]
  },
  {
   "cell_type": "code",
   "execution_count": 5,
   "id": "8024fa29-3393-4b8b-ad57-f29d4e6fdddf",
   "metadata": {},
   "outputs": [
    {
     "data": {
      "text/plain": [
       "1339936681120"
      ]
     },
     "execution_count": 5,
     "metadata": {},
     "output_type": "execute_result"
    }
   ],
   "source": [
    "saludo = \"hola\"\n",
    "id(saludo)"
   ]
  },
  {
   "cell_type": "code",
   "execution_count": 11,
   "id": "54495898-59a0-497f-9b8c-71148f834ceb",
   "metadata": {},
   "outputs": [],
   "source": [
    "a = 45"
   ]
  },
  {
   "cell_type": "code",
   "execution_count": 13,
   "id": "cd546374-e331-4b46-8a25-3b7d24012416",
   "metadata": {},
   "outputs": [
    {
     "name": "stdout",
     "output_type": "stream",
     "text": [
      "45\n"
     ]
    }
   ],
   "source": [
    "print(a)"
   ]
  },
  {
   "cell_type": "code",
   "execution_count": 17,
   "id": "caf5ca0d-360e-4fed-aedb-b71d09ae5b7c",
   "metadata": {},
   "outputs": [
    {
     "name": "stdout",
     "output_type": "stream",
     "text": [
      "20\n"
     ]
    }
   ],
   "source": [
    "input = 20\n",
    "print(input)"
   ]
  },
  {
   "cell_type": "code",
   "execution_count": 19,
   "id": "aa783296-33a4-48b5-a16f-357cce60b6c3",
   "metadata": {},
   "outputs": [],
   "source": [
    "import keyword"
   ]
  },
  {
   "cell_type": "code",
   "execution_count": 21,
   "id": "1b15e9ce-86b9-4eee-ad79-18c64dfbf26c",
   "metadata": {},
   "outputs": [
    {
     "data": {
      "text/plain": [
       "module"
      ]
     },
     "execution_count": 21,
     "metadata": {},
     "output_type": "execute_result"
    }
   ],
   "source": [
    "type(keyword)"
   ]
  },
  {
   "cell_type": "code",
   "execution_count": 23,
   "id": "229f4253-2942-4db0-a465-373b175d16a0",
   "metadata": {},
   "outputs": [
    {
     "data": {
      "text/plain": [
       "type"
      ]
     },
     "execution_count": 23,
     "metadata": {},
     "output_type": "execute_result"
    }
   ],
   "source": [
    "type(map)"
   ]
  },
  {
   "cell_type": "code",
   "execution_count": 25,
   "id": "56c6d1b0-d685-42f5-bf2a-41e1a079ca9b",
   "metadata": {},
   "outputs": [
    {
     "data": {
      "text/plain": [
       "[]"
      ]
     },
     "execution_count": 25,
     "metadata": {},
     "output_type": "execute_result"
    }
   ],
   "source": [
    "list(range(-12,-17,3)) \n"
   ]
  },
  {
   "cell_type": "code",
   "execution_count": 27,
   "id": "ee447105-5244-44df-9044-4cde503d4df0",
   "metadata": {},
   "outputs": [
    {
     "data": {
      "text/plain": [
       "True"
      ]
     },
     "execution_count": 27,
     "metadata": {},
     "output_type": "execute_result"
    }
   ],
   "source": [
    "\"ab\" in \"lalalaabclele\""
   ]
  },
  {
   "cell_type": "code",
   "execution_count": 29,
   "id": "d736ddd3-c38c-4f75-b52f-e4207d063c97",
   "metadata": {},
   "outputs": [
    {
     "data": {
      "text/plain": [
       "False"
      ]
     },
     "execution_count": 29,
     "metadata": {},
     "output_type": "execute_result"
    }
   ],
   "source": [
    "\"ab\" in [2,4,None]"
   ]
  },
  {
   "cell_type": "code",
   "execution_count": null,
   "id": "a753edef-825b-41ae-8690-41b5e6fbf6bb",
   "metadata": {},
   "outputs": [],
   "source": []
  }
 ],
 "metadata": {
  "kernelspec": {
   "display_name": "Python 3 (ipykernel)",
   "language": "python",
   "name": "python3"
  },
  "language_info": {
   "codemirror_mode": {
    "name": "ipython",
    "version": 3
   },
   "file_extension": ".py",
   "mimetype": "text/x-python",
   "name": "python",
   "nbconvert_exporter": "python",
   "pygments_lexer": "ipython3",
   "version": "3.12.7"
  }
 },
 "nbformat": 4,
 "nbformat_minor": 5
}
